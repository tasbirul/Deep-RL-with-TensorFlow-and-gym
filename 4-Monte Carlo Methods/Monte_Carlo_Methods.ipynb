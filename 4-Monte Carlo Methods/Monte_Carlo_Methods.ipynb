{
 "cells": [
  {
   "cell_type": "markdown",
   "metadata": {},
   "source": [
    "# Monte Carlo Methods\n",
    "\n",
    "## Contents\n",
    "\n",
    "- <a href=\"#Introduction\"> Introduction </a>\n",
    "- <a href=\"#Monte-Carlo-Prediction\"> Monte Carlo Prediction </a>\n",
    "- <a href=\"#Policy-Improvement\"> Policy Improvement </a>\n",
    "\n",
    "\n",
    "<br><br>\n",
    "\n",
    "## Introduction\n",
    "\n",
    "\n",
    "\n",
    "<br><br>\n",
    "\n",
    "## Monte Carlo Prediction\n",
    "\n",
    "#### Pshotdocode for Monte Carlo Prediction\n",
    "\n",
    "<img src='./image/Monte_Carlo_Prediction_Sutton&Barto.jpg'>\n",
    "\n",
    "**Input:**\n",
    "\n",
    "- `env`: This is an instance of an OpenAI Gym environment, where `env.P` returns the one-step dynamics.\n",
    "- `policy`: This is a 2D numpy array with `policy.shape[0]` equal to the number of states (`env.nS`), and `policy.shape[1]` equal to the number of actions (`env.nA`).  `policy[s][a]` returns the probability that the agent takes action `a` while in state `s` under the policy.\n",
    "- `gamma`: This is the discount rate.  It must be a value between 0 and 1, inclusive (default value: `1`).\n",
    "- `theta`: This is a very small positive number that is used to decide if the estimate has sufficiently converged to the true value function (default value: `1e-8`).\n",
    "\n",
    "**Output:**\n",
    "- `V`: This is a 1D numpy array with `V.shape[0]` equal to the number of states (`env.nS`).  `V[s]` contains the estimated value of state `s` under the input policy.\n",
    "\n",
    "<br><br>"
   ]
  },
  {
   "cell_type": "code",
   "execution_count": null,
   "metadata": {},
   "outputs": [],
   "source": []
  }
 ],
 "metadata": {
  "kernelspec": {
   "display_name": "Python 3",
   "language": "python",
   "name": "python3"
  },
  "language_info": {
   "codemirror_mode": {
    "name": "ipython",
    "version": 3
   },
   "file_extension": ".py",
   "mimetype": "text/x-python",
   "name": "python",
   "nbconvert_exporter": "python",
   "pygments_lexer": "ipython3",
   "version": "3.6.5"
  }
 },
 "nbformat": 4,
 "nbformat_minor": 2
}
