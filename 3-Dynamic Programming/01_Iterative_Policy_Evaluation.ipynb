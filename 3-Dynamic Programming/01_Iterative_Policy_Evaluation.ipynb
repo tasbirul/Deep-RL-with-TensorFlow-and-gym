{
 "cells": [
  {
   "cell_type": "markdown",
   "metadata": {},
   "source": [
    "# Iterative Policy Evaluation\n",
    "Implementation of iterative policy evaluation with OpenAI Gym environment\n",
    "\n",
    "Parameters for Policy Evaluation algorithm as **input**:\n",
    "\n",
    "- `env`: This is an instance of an OpenAI Gym environment, where `env.P` returns the one-step dynamics.\n",
    "- `policy`: This is a 2D numpy array with `policy.shape[0]` equal to the number of states (`env.nS`), and `policy.shape[1]` equal to the number of actions (`env.nA`).  `policy[s][a]` returns the probability that the agent takes action `a` while in state `s` under the policy.\n",
    "- `gamma`: This is the discount rate.  It must be a value between 0 and 1, inclusive (default value: `1`).\n",
    "- `theta`: This is a very small positive number that is used to decide if the estimate has sufficiently converged to the true value function (default value: `1e-8`).\n",
    "\n",
    "The algorithm returns as **output**:\n",
    "- `V`: This is a 1D numpy array with `V.shape[0]` equal to the number of states (`env.nS`).  `V[s]` contains the estimated value of state `s` under the input policy."
   ]
  },
  {
   "cell_type": "code",
   "execution_count": 1,
   "metadata": {},
   "outputs": [],
   "source": [
    "# Importing the necessary packages \n",
    "import numpy as np\n",
    "import matplotlib.pyplot as plt\n",
    "from gym.envs.toy_text import frozen_lake"
   ]
  },
  {
   "cell_type": "code",
   "execution_count": 2,
   "metadata": {},
   "outputs": [],
   "source": [
    "# Creation the OpenAI Gym 'frozen_lake' environment\n",
    "frozen_lake_env = frozen_lake.FrozenLakeEnv()"
   ]
  },
  {
   "cell_type": "code",
   "execution_count": 3,
   "metadata": {},
   "outputs": [
    {
     "name": "stdout",
     "output_type": "stream",
     "text": [
      "Instance: <FrozenLakeEnv instance>\n"
     ]
    }
   ],
   "source": [
    "print('Instance:', frozen_lake_env)"
   ]
  },
  {
   "cell_type": "code",
   "execution_count": 4,
   "metadata": {},
   "outputs": [
    {
     "name": "stdout",
     "output_type": "stream",
     "text": [
      "Observation Space: 16\n"
     ]
    }
   ],
   "source": [
    "print('Observation Space:',frozen_lake_env.observation_space.n)"
   ]
  },
  {
   "cell_type": "code",
   "execution_count": 5,
   "metadata": {},
   "outputs": [
    {
     "name": "stdout",
     "output_type": "stream",
     "text": [
      "Action Space: 4\n"
     ]
    }
   ],
   "source": [
    "print('Action Space:',frozen_lake_env.action_space.n)"
   ]
  },
  {
   "cell_type": "markdown",
   "metadata": {},
   "source": [
    "### Let's implement the iterative policy algorithm\n",
    "\n",
    "<img src='./image/policy_evaluation.jpg' width='600'>"
   ]
  },
  {
   "cell_type": "code",
   "execution_count": 6,
   "metadata": {},
   "outputs": [],
   "source": [
    "class Iterative_Policy(object):\n",
    "    def __init__(self):\n",
    "        super(Iterative_Policy, self).__init__()\n",
    "        pass\n",
    "    \n",
    "    def policy(self, env):\n",
    "        return np.ones([env.nS, env.nA]) / env.nA\n",
    "    \n",
    "    def policy_evaluation(self, env, policy, gamma=1, theta=1e-8):\n",
    "        V = np.zeros(env.nS)\n",
    "        while True:\n",
    "            delta = 0\n",
    "            for s in range(env.nS):\n",
    "                Vs = 0\n",
    "                for a, action_prob in enumerate(policy[s]):\n",
    "                    for prob, next_state, reward, done in env.P[s][a]:\n",
    "                        Vs += action_prob * prob * (reward + gamma * V[next_state])\n",
    "                delta = max(delta, np.abs(V[s]-Vs))\n",
    "                V[s] = Vs\n",
    "            if delta < theta:\n",
    "                break\n",
    "        return V\n",
    "    \n",
    "    def visualize_values(self, V):\n",
    "        V_sq = np.reshape(V, (4,4))\n",
    "\n",
    "        fig = plt.figure(figsize=(6, 6))\n",
    "        ax = fig.add_subplot(111)\n",
    "        im = ax.imshow(V_sq, cmap='cool')\n",
    "        for (j,i),label in np.ndenumerate(V_sq):\n",
    "            ax.text(i, j, np.round(label, 5), ha='center', va='center', fontsize=14)\n",
    "        plt.tick_params(bottom=False, left=False, labelbottom=False, labelleft=False)\n",
    "        plt.title('State Value Function')\n",
    "        plt.show()"
   ]
  },
  {
   "cell_type": "code",
   "execution_count": 7,
   "metadata": {},
   "outputs": [],
   "source": [
    "evl = Iterative_Policy()\n",
    "policy = evl.policy(frozen_lake_env)\n",
    "values = evl.policy_evaluation(frozen_lake_env, policy)"
   ]
  },
  {
   "cell_type": "code",
   "execution_count": 8,
   "metadata": {},
   "outputs": [
    {
     "name": "stdout",
     "output_type": "stream",
     "text": [
      "[0.01393977 0.01163091 0.02095297 0.01047648 0.01624865 0.\n",
      " 0.04075153 0.         0.03480619 0.08816993 0.14205316 0.\n",
      " 0.         0.17582037 0.43929118 0.        ]\n"
     ]
    }
   ],
   "source": [
    "print(values)"
   ]
  },
  {
   "cell_type": "code",
   "execution_count": 9,
   "metadata": {},
   "outputs": [
    {
     "data": {
      "image/png": "[encoded data removed]",
      "text/plain": [
       "<Figure size 432x432 with 1 Axes>"
      ]
     },
     "metadata": {},
     "output_type": "display_data"
    }
   ],
   "source": [
    "evl.visualize_values(values)"
   ]
  }
 ],
 "metadata": {
  "kernelspec": {
   "display_name": "Python 3",
   "language": "python",
   "name": "python3"
  },
  "language_info": {
   "codemirror_mode": {
    "name": "ipython",
    "version": 3
   },
   "file_extension": ".py",
   "mimetype": "text/x-python",
   "name": "python",
   "nbconvert_exporter": "python",
   "pygments_lexer": "ipython3",
   "version": "3.6.5"
  }
 },
 "nbformat": 4,
 "nbformat_minor": 2
}
