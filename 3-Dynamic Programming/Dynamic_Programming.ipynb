{
 "cells": [
  {
   "cell_type": "markdown",
   "metadata": {},
   "source": [
    "# Dynamic Programming\n",
    "\n",
    "## Contents\n",
    "\n",
    "- <a href=\"#Introduction\"> Introduction </a>\n",
    "- <a href=\"#Policy-Evaluation\"> Policy Evaluation </a>\n",
    "- <a href=\"#Policy-Improvement\"> Policy Improvement </a>\n",
    "- <a href=\"#Policy-Iteration\"> Policy Iteration </a>\n",
    "- <a href=\"#Value-Iteration\"> Value Iteration </a>\n",
    "- <a href=\"#Coding-Exercises\"> Coding Exercises </a>\n",
    "\n",
    "<br><br>\n",
    "\n",
    "## Introduction\n",
    "\n",
    "**`The term dynamic programming (DP) refers to a collection of algorithms that can be used to compute optimal policies given a perfect model of the environment as a Markov decision process (MDP).`**\n",
    "                                                                            - Sutton & Barto 2018\n",
    "\n",
    "\n",
    "<br><br>\n",
    "\n",
    "## Policy Evaluation\n",
    "\n",
    "#### Policy Evaluation Equation\n",
    "\n",
    "<img src='./image/Iterative_Policy Evaluation_Equations._Sutton&Barto.jpg'>\n",
    "\n",
    "#### Pshotdocode for Policy Evaluation\n",
    "\n",
    "<img src='./image/Iterative_Policy Evaluation_Pshotdocode_Sutton&Barto.jpg'>\n",
    "\n",
    "**Input:**\n",
    "\n",
    "- `env`: This is an instance of an OpenAI Gym environment, where `env.P` returns the one-step dynamics.\n",
    "- `policy`: A 2D numpy array with `policy.shape[0]` equal to the number of states (`env.nS`), and `policy.shape[1]` equal to the number of actions (`env.nA`).  `policy[s][a]` returns the probability that the agent takes action `a` while in state `s` under the policy.\n",
    "- `gamma`: The discount rate.  It must be a value between 0 and 1, inclusive (default value: `1`).\n",
    "- `theta`: A very small positive number that is used to decide if the estimate has sufficiently converged to the true value function (default value: `1e-8`).\n",
    "\n",
    "**Output:**\n",
    "- `V`: A 1D numpy array with `V.shape[0]` equal to the number of states (`env.nS`).  `V[s]` contains the estimated value of state `s` under the input policy.\n",
    "\n",
    "<br><br>\n",
    "\n",
    "## Policy Improvement\n",
    "\n",
    "#### Action Values Equation\n",
    "<img src='./image/Action_Values_Equations_Sutton&Barto.jpg'>\n",
    "\n",
    "\n",
    "#### Policy Improvement Equation\n",
    "\n",
    "<img src='./image/Policy_Improvement_Equations_Sutton&Barto.jpg'>\n",
    "\n",
    "**Input:**\n",
    "\n",
    "- `env`: An instance of an OpenAI Gym environment, where `env.P` returns the one-step dynamics.\n",
    "- `V`: A 1D numpy array with `V.shape[0]` equal to the number of states (`env.nS`).  `V[s]` contains the estimated value of state `s`.\n",
    "- `gamma`: The discount rate.  It must be a value between 0 and 1, inclusive (default value: `1`).\n",
    "\n",
    "**Output:**\n",
    "- `policy`: A 2D numpy array with `policy.shape[0]` equal to the number of states (`env.nS`), and `policy.shape[1]` equal to the number of actions (`env.nA`).  `policy[s][a]` returns the probability that the agent takes action `a` while in state `s` under the policy.\n",
    "\n",
    "<br><br>\n",
    "\n",
    "## Policy Iteration\n",
    "\n",
    "#### Pshotdocode for Policy Iteration\n",
    "\n",
    "<img src='./image/Policy_IterationPshotdocode_Sutton&Barto.jpg'>\n",
    "\n",
    "**Input:**\n",
    "\n",
    "- `env`: An instance of an OpenAI Gym environment, where `env.P` returns the one-step dynamics.\n",
    "- `gamma`: The discount rate.  It must be a value between 0 and 1, inclusive (default value: `1`).\n",
    "- `theta`: A very small positive number that is used to decide if the policy evaluation step has sufficiently converged to the true value function (default value: `1e-8`).\n",
    "\n",
    "**Output:**\n",
    "- `policy`: A 2D numpy array with `policy.shape[0]` equal to the number of states (`env.nS`), and `policy.shape[1]` equal to the number of actions (`env.nA`).  `policy[s][a]` returns the probability that the agent takes action `a` while in state `s` under the policy.\n",
    "- `V`: A 1D numpy array with `V.shape[0]` equal to the number of states (`env.nS`).  `V[s]` contains the estimated value of state `s`.\n",
    "\n",
    "<br><br>\n",
    "\n",
    "## Value Iteration\n",
    "\n",
    "#### Pshotdocode for Value Iteration\n",
    "\n",
    "<img src='./image/Value_IterationPshotdocode_Sutton&Barto.jpg'>\n",
    "\n",
    "**Input:**\n",
    "\n",
    "- `env`: An instance of an OpenAI Gym environment, where `env.P` returns the one-step dynamics.\n",
    "- `gamma`: The discount rate.  It must be a value between 0 and 1, inclusive (default value: `1`).\n",
    "- `theta`: A very small positive number that is used for the stopping criterion (default value: `1e-8`).\n",
    "\n",
    "**Output:**\n",
    "- `policy`: A 2D numpy array with `policy.shape[0]` equal to the number of states (`env.nS`), and `policy.shape[1]` equal to the number of actions (`env.nA`).  `policy[s][a]` returns the probability that the agent takes action `a` while in state `s` under the policy.\n",
    "- `V`: A 1D numpy array with `V.shape[0]` equal to the number of states (`env.nS`).  `V[s]` contains the estimated value of state `s`.\n",
    "\n",
    "<br><br><br><br>\n",
    "\n",
    "## Coding Exercises\n",
    "\n",
    "In this section, we'll go through the coding for Dynamic Programming coding exercises with Python and OpenAI gym environment.\n",
    "\n",
    "We'll be using the OpenAI gym <a href='https://github.com/openai/gym/blob/master/gym/envs/toy_text/frozen_lake.py'>frozen_lake</a> environment for this notebook."
   ]
  },
  {
   "cell_type": "code",
   "execution_count": 1,
   "metadata": {},
   "outputs": [],
   "source": [
    "# Importing the necessary packages \n",
    "import copy\n",
    "import numpy as np\n",
    "import matplotlib.pyplot as plt\n",
    "from gym.envs.toy_text import frozen_lake"
   ]
  },
  {
   "cell_type": "code",
   "execution_count": 2,
   "metadata": {},
   "outputs": [],
   "source": [
    "# Let's create the OpenAI Gym 'frozen_lake' environment\n",
    "env = frozen_lake.FrozenLakeEnv()"
   ]
  },
  {
   "cell_type": "code",
   "execution_count": 3,
   "metadata": {},
   "outputs": [
    {
     "name": "stdout",
     "output_type": "stream",
     "text": [
      "Instance: <FrozenLakeEnv instance>\n",
      "Observation Space: 16\n",
      "Action Space: 4\n"
     ]
    }
   ],
   "source": [
    "# Basic information about the environment\n",
    "print('Instance:', env)\n",
    "print('Observation Space:',env.observation_space.n)\n",
    "print('Action Space:',env.action_space.n)"
   ]
  },
  {
   "cell_type": "code",
   "execution_count": 4,
   "metadata": {},
   "outputs": [],
   "source": [
    "# The master class\n",
    "class Dynamic_Programming(object):\n",
    "    def __init__(self):\n",
    "        super(Dynamic_Programming, self).__init__()\n",
    "        pass\n",
    "    \n",
    "    def policy_evaluation(self, env, policy, gamma=1, theta=1e-8):\n",
    "        V = np.zeros(env.nS)\n",
    "        while True:\n",
    "            delta = 0\n",
    "            for s in range(env.nS):\n",
    "                Vs = 0\n",
    "                for a, action_prob in enumerate(policy[s]):\n",
    "                    for prob, next_state, reward, done in env.P[s][a]:\n",
    "                        Vs += action_prob * prob * (reward + gamma * V[next_state])\n",
    "                delta = max(delta, np.abs(V[s]-Vs))\n",
    "                V[s] = Vs\n",
    "            if delta < theta:\n",
    "                break\n",
    "        return V\n",
    "    \n",
    "    def action_value(self, env, V, s, gamma=1):\n",
    "        q = np.zeros(env.nA)\n",
    "        for a in range(env.nA):\n",
    "            for prob, next_state, reward, done in env.P[s][a]:\n",
    "                q[a] += prob * (reward + gamma * V[next_state])\n",
    "        return q\n",
    "\n",
    "    def policy_improvement(self, env, V, gamma=1):\n",
    "        policy = np.zeros([env.nS, env.nA]) / env.nA\n",
    "        for s in range(env.nS):\n",
    "            q = self.action_value(env, V, s, gamma)\n",
    "            best_a = np.argwhere(q==np.max(q)).flatten()\n",
    "            policy[s] = np.sum([np.eye(env.nA)[i] for i in best_a], axis=0)/len(best_a)\n",
    "        return policy\n",
    "    \n",
    "    def policy_iteration(self, env, gamma=1, theta=1e-8):\n",
    "        policy = np.ones([env.nS, env.nA]) / env.nA\n",
    "        while True:\n",
    "            V = self.policy_evaluation(env, policy, gamma, theta)\n",
    "            new_policy = self.policy_improvement(env, V)\n",
    "\n",
    "            if (new_policy == policy).all():\n",
    "                break;\n",
    "                \n",
    "            policy = copy.copy(new_policy)\n",
    "        return policy, V\n",
    "    \n",
    "    def value_iteration(self, env, gamma=1, theta=1e-8):\n",
    "        V = np.zeros(env.nS)\n",
    "        while True:\n",
    "            delta = 0\n",
    "            for s in range(env.nS):\n",
    "                v = V[s]\n",
    "                V[s] = max(self.action_value(env, V, s, gamma))\n",
    "                delta = max(delta,abs(V[s]-v))\n",
    "            if delta < theta:\n",
    "                break\n",
    "        policy = self.policy_improvement(env, V, gamma)\n",
    "        return policy, V\n",
    "    \n",
    "    def visualization(self, V):\n",
    "        V_sq = np.reshape(V, (4,4))\n",
    "\n",
    "        fig = plt.figure(figsize=(6, 6))\n",
    "        ax = fig.add_subplot(111)\n",
    "        im = ax.imshow(V_sq, cmap='cool')\n",
    "        for (j,i),label in np.ndenumerate(V_sq):\n",
    "            ax.text(i, j, np.round(label, 5), ha='center', va='center', fontsize=14)\n",
    "        plt.tick_params(bottom=False, left=False, labelbottom=False, labelleft=False)\n",
    "        plt.show()\n"
   ]
  },
  {
   "cell_type": "code",
   "execution_count": 5,
   "metadata": {},
   "outputs": [],
   "source": [
    "# Instance of Dynamic_Programming class\n",
    "dp = Dynamic_Programming()"
   ]
  },
  {
   "cell_type": "markdown",
   "metadata": {},
   "source": [
    "### Run Policy Evaluation"
   ]
  },
  {
   "cell_type": "code",
   "execution_count": 6,
   "metadata": {},
   "outputs": [
    {
     "name": "stdout",
     "output_type": "stream",
     "text": [
      "Values\n",
      "\n",
      " [0.01393977 0.01163091 0.02095297 0.01047648 0.01624865 0.\n",
      " 0.04075153 0.         0.03480619 0.08816993 0.14205316 0.\n",
      " 0.         0.17582037 0.43929118 0.        ]\n"
     ]
    },
    {
     "data": {
      "image/png": "[encoded data removed]",
      "text/plain": [
       "<Figure size 432x432 with 1 Axes>"
      ]
     },
     "metadata": {},
     "output_type": "display_data"
    }
   ],
   "source": [
    "policy = np.ones([env.nS, env.nA]) / env.nA\n",
    "values = dp.policy_evaluation(env, policy)\n",
    "print(\"Values\\n\\n\", values)\n",
    "dp.visualization(values)"
   ]
  },
  {
   "cell_type": "markdown",
   "metadata": {},
   "source": [
    "### Run Policy Improvement "
   ]
  },
  {
   "cell_type": "code",
   "execution_count": 7,
   "metadata": {},
   "outputs": [
    {
     "name": "stdout",
     "output_type": "stream",
     "text": [
      "[[1.   0.   0.   0.  ]\n",
      " [0.   0.   0.   1.  ]\n",
      " [1.   0.   0.   0.  ]\n",
      " [0.   0.   0.   1.  ]\n",
      " [1.   0.   0.   0.  ]\n",
      " [0.25 0.25 0.25 0.25]\n",
      " [0.5  0.   0.5  0.  ]\n",
      " [0.25 0.25 0.25 0.25]\n",
      " [0.   0.   0.   1.  ]\n",
      " [0.   1.   0.   0.  ]\n",
      " [1.   0.   0.   0.  ]\n",
      " [0.25 0.25 0.25 0.25]\n",
      " [0.25 0.25 0.25 0.25]\n",
      " [0.   0.   1.   0.  ]\n",
      " [0.   1.   0.   0.  ]\n",
      " [0.25 0.25 0.25 0.25]]\n"
     ]
    }
   ],
   "source": [
    "improved_policy = dp.policy_improvement(env, values)\n",
    "print(improved_policy)"
   ]
  },
  {
   "cell_type": "markdown",
   "metadata": {},
   "source": [
    "### Run Policy Iteration"
   ]
  },
  {
   "cell_type": "code",
   "execution_count": 8,
   "metadata": {},
   "outputs": [
    {
     "name": "stdout",
     "output_type": "stream",
     "text": [
      "\n",
      "Optimal Policy (LEFT = 0, DOWN = 1, RIGHT = 2, UP = 3):\n",
      "[[1.   0.   0.   0.  ]\n",
      " [0.   0.   0.   1.  ]\n",
      " [0.   0.   0.   1.  ]\n",
      " [0.   0.   0.   1.  ]\n",
      " [1.   0.   0.   0.  ]\n",
      " [0.25 0.25 0.25 0.25]\n",
      " [0.5  0.   0.5  0.  ]\n",
      " [0.25 0.25 0.25 0.25]\n",
      " [0.   0.   0.   1.  ]\n",
      " [0.   1.   0.   0.  ]\n",
      " [1.   0.   0.   0.  ]\n",
      " [0.25 0.25 0.25 0.25]\n",
      " [0.25 0.25 0.25 0.25]\n",
      " [0.   0.   1.   0.  ]\n",
      " [0.   1.   0.   0.  ]\n",
      " [0.25 0.25 0.25 0.25]] \n",
      "\n"
     ]
    },
    {
     "data": {
      "image/png": "[encoded data removed]",
      "text/plain": [
       "<Figure size 432x432 with 1 Axes>"
      ]
     },
     "metadata": {},
     "output_type": "display_data"
    }
   ],
   "source": [
    "policy_pi, V_pi = dp.policy_iteration(env)\n",
    "\n",
    "print(\"\\nOptimal Policy (LEFT = 0, DOWN = 1, RIGHT = 2, UP = 3):\")\n",
    "print(policy_pi,\"\\n\")\n",
    "\n",
    "dp.visualization(V_pi)"
   ]
  },
  {
   "cell_type": "markdown",
   "metadata": {},
   "source": [
    "### Run Value Iteration "
   ]
  },
  {
   "cell_type": "code",
   "execution_count": 9,
   "metadata": {
    "scrolled": false
   },
   "outputs": [
    {
     "name": "stdout",
     "output_type": "stream",
     "text": [
      "\n",
      "Optimal Policy (LEFT = 0, DOWN = 1, RIGHT = 2, UP = 3):\n",
      "[[1.   0.   0.   0.  ]\n",
      " [0.   0.   0.   1.  ]\n",
      " [0.   0.   0.   1.  ]\n",
      " [0.   0.   0.   1.  ]\n",
      " [1.   0.   0.   0.  ]\n",
      " [0.25 0.25 0.25 0.25]\n",
      " [0.5  0.   0.5  0.  ]\n",
      " [0.25 0.25 0.25 0.25]\n",
      " [0.   0.   0.   1.  ]\n",
      " [0.   1.   0.   0.  ]\n",
      " [1.   0.   0.   0.  ]\n",
      " [0.25 0.25 0.25 0.25]\n",
      " [0.25 0.25 0.25 0.25]\n",
      " [0.   0.   1.   0.  ]\n",
      " [0.   1.   0.   0.  ]\n",
      " [0.25 0.25 0.25 0.25]] \n",
      "\n"
     ]
    },
    {
     "data": {
      "image/png": "[encoded data removed]",
      "text/plain": [
       "<Figure size 432x432 with 1 Axes>"
      ]
     },
     "metadata": {},
     "output_type": "display_data"
    }
   ],
   "source": [
    "policy_vi, V_vi = dp.value_iteration(env)\n",
    "\n",
    "print(\"\\nOptimal Policy (LEFT = 0, DOWN = 1, RIGHT = 2, UP = 3):\")\n",
    "print(policy_vi,\"\\n\")\n",
    "\n",
    "dp.visualization(V_vi)"
   ]
  },
  {
   "cell_type": "markdown",
   "metadata": {},
   "source": [
    "**`Image Cradit: Reinforcement Learning: An Introduction(2018) by Richard S. Sutton and Andrew G. Barto `**"
   ]
  }
 ],
 "metadata": {
  "kernelspec": {
   "display_name": "Python 3",
   "language": "python",
   "name": "python3"
  },
  "language_info": {
   "codemirror_mode": {
    "name": "ipython",
    "version": 3
   },
   "file_extension": ".py",
   "mimetype": "text/x-python",
   "name": "python",
   "nbconvert_exporter": "python",
   "pygments_lexer": "ipython3",
   "version": "3.6.5"
  }
 },
 "nbformat": 4,
 "nbformat_minor": 2
}
